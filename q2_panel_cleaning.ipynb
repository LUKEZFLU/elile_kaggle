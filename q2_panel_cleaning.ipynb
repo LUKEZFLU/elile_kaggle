{
 "cells": [
  {
   "cell_type": "markdown",
   "metadata": {},
   "source": [
    "# Can we identify the need for panel cleaning/maintenance?"
   ]
  },
  {
   "cell_type": "markdown",
   "metadata": {},
   "source": [
    "## Prepare"
   ]
  },
  {
   "cell_type": "code",
   "execution_count": 100,
   "metadata": {},
   "outputs": [
    {
     "name": "stdout",
     "output_type": "stream",
     "text": [
      "(67698, 7)\n",
      "(3259, 6)\n"
     ]
    }
   ],
   "source": [
    "# import packages\n",
    "\n",
    "import numpy as np\n",
    "import pandas as pd\n",
    "import matplotlib.pyplot as plt\n",
    "\n",
    "# import data set (we use plant 2 here)\n",
    "\n",
    "plant2_g = pd.read_csv('./data/Plant_2_Generation_Data.csv')\n",
    "plant2_s = pd.read_csv('./data/Plant_2_Weather_Sensor_Data.csv')\n",
    "\n",
    "# Find the size of data\n",
    "print(plant2_g.shape)\n",
    "print(plant2_s.shape)"
   ]
  },
  {
   "cell_type": "code",
   "execution_count": 101,
   "metadata": {},
   "outputs": [
    {
     "name": "stdout",
     "output_type": "stream",
     "text": [
      "                 DATE_TIME  PLANT_ID       SOURCE_KEY  DC_POWER     AC_POWER  \\\n",
      "51220  2020-06-10 04:45:00   4136001  4UPUqMRk7TRMgml       0.0     0.000000   \n",
      "27966  2020-05-30 04:00:00   4136001  4UPUqMRk7TRMgml       0.0     0.000000   \n",
      "63304  2020-06-15 22:00:00   4136001  LlT2YUhhzqhg5Sw       0.0     0.000000   \n",
      "61406  2020-06-15 00:30:00   4136001  4UPUqMRk7TRMgml       0.0     0.000000   \n",
      "21329  2020-05-26 10:00:00   4136001  oZZkBaNadn6DNKz    1089.5  1064.793333   \n",
      "\n",
      "       DAILY_YIELD   TOTAL_YIELD  \n",
      "51220  8098.000000  2.618699e+06  \n",
      "27966     0.000000  2.537682e+06  \n",
      "63304  6151.000000  2.827795e+08  \n",
      "61406  1868.000000  2.641320e+06  \n",
      "21329  2099.933333  1.708159e+09  \n",
      "We have 22 inverters for plant 2 generation data.\n"
     ]
    }
   ],
   "source": [
    "# Details about the generation data\n",
    "print(plant2_g.sample(5))\n",
    "print(\"We have\",len(plant2_g.SOURCE_KEY .unique()),\"inverters for plant 2 generation data.\")"
   ]
  },
  {
   "cell_type": "code",
   "execution_count": 102,
   "metadata": {},
   "outputs": [
    {
     "data": {
      "text/html": [
       "<div>\n",
       "<style scoped>\n",
       "    .dataframe tbody tr th:only-of-type {\n",
       "        vertical-align: middle;\n",
       "    }\n",
       "\n",
       "    .dataframe tbody tr th {\n",
       "        vertical-align: top;\n",
       "    }\n",
       "\n",
       "    .dataframe thead th {\n",
       "        text-align: right;\n",
       "    }\n",
       "</style>\n",
       "<table border=\"1\" class=\"dataframe\">\n",
       "  <thead>\n",
       "    <tr style=\"text-align: right;\">\n",
       "      <th></th>\n",
       "      <th>DATE_TIME</th>\n",
       "      <th>PLANT_ID</th>\n",
       "      <th>SOURCE_KEY</th>\n",
       "      <th>AMBIENT_TEMPERATURE</th>\n",
       "      <th>MODULE_TEMPERATURE</th>\n",
       "      <th>IRRADIATION</th>\n",
       "    </tr>\n",
       "  </thead>\n",
       "  <tbody>\n",
       "    <tr>\n",
       "      <th>254</th>\n",
       "      <td>2020-05-17 15:45:00</td>\n",
       "      <td>4136001</td>\n",
       "      <td>iq8k7ZNt4Mwm3w0</td>\n",
       "      <td>35.512026</td>\n",
       "      <td>41.278480</td>\n",
       "      <td>0.278562</td>\n",
       "    </tr>\n",
       "    <tr>\n",
       "      <th>1176</th>\n",
       "      <td>2020-05-27 06:30:00</td>\n",
       "      <td>4136001</td>\n",
       "      <td>iq8k7ZNt4Mwm3w0</td>\n",
       "      <td>25.858954</td>\n",
       "      <td>25.846911</td>\n",
       "      <td>0.056535</td>\n",
       "    </tr>\n",
       "    <tr>\n",
       "      <th>923</th>\n",
       "      <td>2020-05-24 15:15:00</td>\n",
       "      <td>4136001</td>\n",
       "      <td>iq8k7ZNt4Mwm3w0</td>\n",
       "      <td>37.855879</td>\n",
       "      <td>53.019688</td>\n",
       "      <td>0.590665</td>\n",
       "    </tr>\n",
       "    <tr>\n",
       "      <th>3255</th>\n",
       "      <td>2020-06-17 23:00:00</td>\n",
       "      <td>4136001</td>\n",
       "      <td>iq8k7ZNt4Mwm3w0</td>\n",
       "      <td>23.482282</td>\n",
       "      <td>22.744190</td>\n",
       "      <td>0.000000</td>\n",
       "    </tr>\n",
       "    <tr>\n",
       "      <th>1028</th>\n",
       "      <td>2020-05-25 17:30:00</td>\n",
       "      <td>4136001</td>\n",
       "      <td>iq8k7ZNt4Mwm3w0</td>\n",
       "      <td>36.003799</td>\n",
       "      <td>35.963227</td>\n",
       "      <td>0.029605</td>\n",
       "    </tr>\n",
       "  </tbody>\n",
       "</table>\n",
       "</div>"
      ],
      "text/plain": [
       "                DATE_TIME  PLANT_ID       SOURCE_KEY  AMBIENT_TEMPERATURE  \\\n",
       "254   2020-05-17 15:45:00   4136001  iq8k7ZNt4Mwm3w0            35.512026   \n",
       "1176  2020-05-27 06:30:00   4136001  iq8k7ZNt4Mwm3w0            25.858954   \n",
       "923   2020-05-24 15:15:00   4136001  iq8k7ZNt4Mwm3w0            37.855879   \n",
       "3255  2020-06-17 23:00:00   4136001  iq8k7ZNt4Mwm3w0            23.482282   \n",
       "1028  2020-05-25 17:30:00   4136001  iq8k7ZNt4Mwm3w0            36.003799   \n",
       "\n",
       "      MODULE_TEMPERATURE  IRRADIATION  \n",
       "254            41.278480     0.278562  \n",
       "1176           25.846911     0.056535  \n",
       "923            53.019688     0.590665  \n",
       "3255           22.744190     0.000000  \n",
       "1028           35.963227     0.029605  "
      ]
     },
     "execution_count": 102,
     "metadata": {},
     "output_type": "execute_result"
    }
   ],
   "source": [
    "# Details about the  weather sensor data\n",
    "plant2_s.sample(5)"
   ]
  },
  {
   "cell_type": "code",
   "execution_count": 103,
   "metadata": {},
   "outputs": [
    {
     "name": "stdout",
     "output_type": "stream",
     "text": [
      "                 DATE_TIME  PLANT_ID_s     SOURCE_KEY_s  AMBIENT_TEMPERATURE  \\\n",
      "25271  2020-05-28 16:45:00     4136001  iq8k7ZNt4Mwm3w0            36.079632   \n",
      "23601  2020-05-27 17:30:00     4136001  iq8k7ZNt4Mwm3w0            35.660515   \n",
      "50291  2020-06-09 18:00:00     4136001  iq8k7ZNt4Mwm3w0            30.975934   \n",
      "43837  2020-06-06 16:45:00     4136001  iq8k7ZNt4Mwm3w0            33.657895   \n",
      "32226  2020-06-01 04:15:00     4136001  iq8k7ZNt4Mwm3w0            23.720711   \n",
      "\n",
      "       MODULE_TEMPERATURE  IRRADIATION  PLANT_ID_g     SOURCE_KEY_g  \\\n",
      "25271           41.750671     0.246055     4136001  oZZkBaNadn6DNKz   \n",
      "23601           37.960130     0.131243     4136001  xoJJ8DcxJEcupym   \n",
      "50291           31.487287     0.053980     4136001  q49J1IKaHRwDQnt   \n",
      "43837           40.121037     0.330487     4136001  PeE6FRyGXUgsRhN   \n",
      "32226           22.873644     0.000000     4136001  mqwcsP2rE7J0TFp   \n",
      "\n",
      "         DC_POWER    AC_POWER  DAILY_YIELD   TOTAL_YIELD        DATE      TIME  \n",
      "25271  377.820000  371.180000  8723.000000  1.708179e+09  2020-05-28  16:45:00  \n",
      "23601  188.378571  184.671429  3223.285714  2.092141e+08  2020-05-27  17:30:00  \n",
      "50291   79.940000   77.553333  3574.333333  4.776113e+05  2020-06-09  18:00:00  \n",
      "43837  499.326667  489.573333  1839.466667  1.348487e+09  2020-06-06  16:45:00  \n",
      "32226    0.000000    0.000000     0.000000  5.937127e+08  2020-06-01  04:15:00  \n"
     ]
    }
   ],
   "source": [
    "# Join table\n",
    "data = pd.merge(plant2_s, plant2_g, on='DATE_TIME', how='outer', suffixes=('_s', '_g'))\n",
    "data[['DATE', 'TIME']] = data['DATE_TIME'].str.split(' ', expand=True)\n",
    "print(data.sample(5))\n"
   ]
  },
  {
   "cell_type": "markdown",
   "metadata": {},
   "source": [
    "## Testing"
   ]
  },
  {
   "cell_type": "code",
   "execution_count": 105,
   "metadata": {},
   "outputs": [
    {
     "name": "stderr",
     "output_type": "stream",
     "text": [
      "/var/folders/_x/202cpd2n4c1_cwtp8thvbbzm0000gn/T/ipykernel_53688/950433957.py:5: SettingWithCopyWarning: \n",
      "A value is trying to be set on a copy of a slice from a DataFrame.\n",
      "Try using .loc[row_indexer,col_indexer] = value instead\n",
      "\n",
      "See the caveats in the documentation: https://pandas.pydata.org/pandas-docs/stable/user_guide/indexing.html#returning-a-view-versus-a-copy\n",
      "  may_18_data['TIME'] = pd.to_datetime(may_18_data['TIME'], format='%H:%M:%S')\n",
      "/var/folders/_x/202cpd2n4c1_cwtp8thvbbzm0000gn/T/ipykernel_53688/950433957.py:8: SettingWithCopyWarning: \n",
      "A value is trying to be set on a copy of a slice from a DataFrame.\n",
      "Try using .loc[row_indexer,col_indexer] = value instead\n",
      "\n",
      "See the caveats in the documentation: https://pandas.pydata.org/pandas-docs/stable/user_guide/indexing.html#returning-a-view-versus-a-copy\n",
      "  may_18_data['DAILY_YIELD_DIFF'] = may_18_data['DAILY_YIELD'].diff()\n"
     ]
    },
    {
     "data": {
      "image/png": "[encoded data removed]",
      "text/plain": [
       "<Figure size 864x432 with 1 Axes>"
      ]
     },
     "metadata": {
      "needs_background": "light"
     },
     "output_type": "display_data"
    }
   ],
   "source": [
    "# Correcting the conversion of TIME to datetime format\n",
    "may_18_data = data[data['DATE'] == '2020-05-18']\n",
    "\n",
    "# Converting TIME to datetime format\n",
    "may_18_data['TIME'] = pd.to_datetime(may_18_data['TIME'], format='%H:%M:%S')\n",
    "\n",
    "# Calculating the difference in DAILY_YIELD\n",
    "may_18_data['DAILY_YIELD_DIFF'] = may_18_data['DAILY_YIELD'].diff()\n",
    "\n",
    "plt.figure(figsize=(12, 6))\n",
    "plt.plot(may_18_data['TIME'], may_18_data['MODULE_TEMPERATURE'], marker='o', linestyle='-', color='b', label='Module Temperature')\n",
    "plt.plot(may_18_data['TIME'], may_18_data['AMBIENT_TEMPERATURE'], marker='o', linestyle='-', color='r', label='Ambient Temperature')\n",
    "#plt.plot(may_18_data['TIME'], may_18_data['DAILY_YIELD_DIFF'], marker='o', linestyle='-', color='g', label='Daily Yield Difference')\n",
    "plt.title('Temperature Variations and Daily Yield Difference on June 1, 2020')\n",
    "plt.xlabel('Time')\n",
    "plt.ylabel('Values')\n",
    "plt.legend()\n",
    "plt.grid(True)\n",
    "plt.xticks(rotation=45)\n",
    "plt.show()\n",
    "\n",
    "\n"
   ]
  }
 ],
 "metadata": {
  "kernelspec": {
   "display_name": "base",
   "language": "python",
   "name": "python3"
  },
  "language_info": {
   "codemirror_mode": {
    "name": "ipython",
    "version": 3
   },
   "file_extension": ".py",
   "mimetype": "text/x-python",
   "name": "python",
   "nbconvert_exporter": "python",
   "pygments_lexer": "ipython3",
   "version": "3.9.12"
  }
 },
 "nbformat": 4,
 "nbformat_minor": 2
}
