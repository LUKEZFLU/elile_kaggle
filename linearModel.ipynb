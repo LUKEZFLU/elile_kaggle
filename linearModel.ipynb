{
 "cells": [
  {
   "cell_type": "code",
   "execution_count": 1,
   "metadata": {},
   "outputs": [],
   "source": [
    "import pandas as pd\n",
    "from sklearn.model_selection import train_test_split, cross_val_score\n",
    "from sklearn.linear_model import LinearRegression\n",
    "from sklearn.metrics import mean_squared_error, mean_absolute_error, r2_score\n",
    "import matplotlib.pyplot as plt\n",
    "import seaborn as sns"
   ]
  },
  {
   "cell_type": "markdown",
   "metadata": {},
   "source": [
    "# Question 1\n",
    "\n"
   ]
  },
  {
   "cell_type": "markdown",
   "metadata": {},
   "source": [
    "Display data"
   ]
  },
  {
   "cell_type": "code",
   "execution_count": 2,
   "metadata": {},
   "outputs": [
    {
     "name": "stdout",
     "output_type": "stream",
     "text": [
      "          DATE_TIME  PLANT_ID       SOURCE_KEY  DC_POWER  AC_POWER  \\\n",
      "0  15-05-2020 00:00   4135001  1BY6WEcLGh8j5v7       0.0       0.0   \n",
      "1  15-05-2020 00:00   4135001  1IF53ai7Xc0U56Y       0.0       0.0   \n",
      "2  15-05-2020 00:00   4135001  3PZuoBAID5Wc2HD       0.0       0.0   \n",
      "3  15-05-2020 00:00   4135001  7JYdWkrLSPkdwr4       0.0       0.0   \n",
      "4  15-05-2020 00:00   4135001  McdE0feGgRqW7Ca       0.0       0.0   \n",
      "\n",
      "   DAILY_YIELD  TOTAL_YIELD  \n",
      "0          0.0    6259559.0  \n",
      "1          0.0    6183645.0  \n",
      "2          0.0    6987759.0  \n",
      "3          0.0    7602960.0  \n",
      "4          0.0    7158964.0  \n",
      "             DATE_TIME  PLANT_ID       SOURCE_KEY  AMBIENT_TEMPERATURE  \\\n",
      "0  2020-05-15 00:00:00   4135001  HmiyD2TTLFNqkNe            25.184316   \n",
      "1  2020-05-15 00:15:00   4135001  HmiyD2TTLFNqkNe            25.084589   \n",
      "2  2020-05-15 00:30:00   4135001  HmiyD2TTLFNqkNe            24.935753   \n",
      "3  2020-05-15 00:45:00   4135001  HmiyD2TTLFNqkNe            24.846130   \n",
      "4  2020-05-15 01:00:00   4135001  HmiyD2TTLFNqkNe            24.621525   \n",
      "\n",
      "   MODULE_TEMPERATURE  IRRADIATION  \n",
      "0           22.857507          0.0  \n",
      "1           22.761668          0.0  \n",
      "2           22.592306          0.0  \n",
      "3           22.360852          0.0  \n",
      "4           22.165423          0.0  \n"
     ]
    }
   ],
   "source": [
    "# read data\n",
    "p1_generate = pd.read_csv('./data/Plant_1_Generation_Data.csv')\n",
    "p1_weather = pd.read_csv('./data/Plant_1_Weather_Sensor_Data.csv')\n",
    "\n",
    "print(p1_generate.head())\n",
    "print(p1_weather.head())"
   ]
  },
  {
   "cell_type": "markdown",
   "metadata": {},
   "source": [
    "merge data"
   ]
  },
  {
   "cell_type": "code",
   "execution_count": 3,
   "metadata": {},
   "outputs": [
    {
     "name": "stdout",
     "output_type": "stream",
     "text": [
      "   DATE_TIME  PLANT_ID_x     SOURCE_KEY_x  DC_POWER  AC_POWER  DAILY_YIELD  \\\n",
      "0 2020-05-15     4135001  1BY6WEcLGh8j5v7       0.0       0.0          0.0   \n",
      "1 2020-05-15     4135001  1IF53ai7Xc0U56Y       0.0       0.0          0.0   \n",
      "2 2020-05-15     4135001  3PZuoBAID5Wc2HD       0.0       0.0          0.0   \n",
      "3 2020-05-15     4135001  7JYdWkrLSPkdwr4       0.0       0.0          0.0   \n",
      "4 2020-05-15     4135001  McdE0feGgRqW7Ca       0.0       0.0          0.0   \n",
      "\n",
      "   TOTAL_YIELD  PLANT_ID_y     SOURCE_KEY_y  AMBIENT_TEMPERATURE  \\\n",
      "0    6259559.0     4135001  HmiyD2TTLFNqkNe            25.184316   \n",
      "1    6183645.0     4135001  HmiyD2TTLFNqkNe            25.184316   \n",
      "2    6987759.0     4135001  HmiyD2TTLFNqkNe            25.184316   \n",
      "3    7602960.0     4135001  HmiyD2TTLFNqkNe            25.184316   \n",
      "4    7158964.0     4135001  HmiyD2TTLFNqkNe            25.184316   \n",
      "\n",
      "   MODULE_TEMPERATURE  IRRADIATION  \n",
      "0           22.857507          0.0  \n",
      "1           22.857507          0.0  \n",
      "2           22.857507          0.0  \n",
      "3           22.857507          0.0  \n",
      "4           22.857507          0.0  \n"
     ]
    },
    {
     "name": "stderr",
     "output_type": "stream",
     "text": [
      "/var/folders/vq/b4771lhd7szfxw67rsm92kk40000gn/T/ipykernel_63729/1242486658.py:1: UserWarning: Parsing dates in %d-%m-%Y %H:%M format when dayfirst=False (the default) was specified. Pass `dayfirst=True` or specify a format to silence this warning.\n",
      "  p1_generate['DATE_TIME'] = pd.to_datetime(p1_generate['DATE_TIME'])\n"
     ]
    }
   ],
   "source": [
    "p1_generate['DATE_TIME'] = pd.to_datetime(p1_generate['DATE_TIME'])\n",
    "p1_weather['DATE_TIME'] = pd.to_datetime(p1_weather['DATE_TIME'])\n",
    "plant1_data = pd.merge(p1_generate, p1_weather, on='DATE_TIME')\n",
    "print(plant1_data.head())"
   ]
  },
  {
   "cell_type": "markdown",
   "metadata": {},
   "source": [
    "# add col to the dataset"
   ]
  },
  {
   "cell_type": "code",
   "execution_count": 4,
   "metadata": {},
   "outputs": [],
   "source": [
    "def create_features(df):\n",
    "    df['YEAR'] = df['DATE_TIME'].dt.year\n",
    "    df['MONTH'] = df['DATE_TIME'].dt.month\n",
    "    df['DAY'] = df['DATE_TIME'].dt.day\n",
    "    df['HOUR'] = df['DATE_TIME'].dt.hour\n",
    "    df['MINUTE'] = df['DATE_TIME'].dt.minute\n",
    "    df['DAYOFWEEK'] = df['DATE_TIME'].dt.dayofweek\n",
    "    df['DATE'] = df['DATE_TIME'].dt.date\n",
    "    df['TIME'] = df['DATE_TIME'].dt.time\n",
    "    df['TOTAL_MINUTES_PASS'] = df['MINUTE'] + df['HOUR'] * 60\n",
    "    if 'AC_POWER' in df.columns:\n",
    "        df['PREV_DAY_AC_POWER'] = df['AC_POWER'].shift(24)\n",
    "    return df\n",
    "\n",
    "plant1_data = create_features(plant1_data)\n",
    "plant1_data = plant1_data.dropna()"
   ]
  },
  {
   "cell_type": "markdown",
   "metadata": {},
   "source": [
    "# Linear Regression Model with R^2 and MSE"
   ]
  },
  {
   "cell_type": "code",
   "execution_count": 5,
   "metadata": {},
   "outputs": [
    {
     "name": "stdout",
     "output_type": "stream",
     "text": [
      "Mean Squared Error: 3298.51%\n",
      "R^2 Score: 97.85%\n"
     ]
    }
   ],
   "source": [
    "features = ['YEAR', 'MONTH', 'DAY', 'HOUR', 'MINUTE', 'DAYOFWEEK', 'AMBIENT_TEMPERATURE', 'MODULE_TEMPERATURE', 'IRRADIATION', 'PREV_DAY_AC_POWER']\n",
    "target = 'AC_POWER'\n",
    "\n",
    "# split 8:2 on the dataset\n",
    "X_train, X_test, y_train, y_test = train_test_split(plant1_data[features], plant1_data[target], test_size=0.2, random_state=42)\n",
    "\n",
    "\n",
    "lr = LinearRegression()\n",
    "lr.fit(X_train, y_train)\n",
    "y_pred_lr = lr.predict(X_test)\n",
    "mse = mean_squared_error(y_test, y_pred_lr)\n",
    "r2 = r2_score(y_test, y_pred_lr)\n",
    "\n",
    "print(f'Mean Squared Error: {mse:.2f}%')\n",
    "print(f'R^2 Score: {r2 * 100:.2f}%')"
   ]
  }
 ],
 "metadata": {
  "kernelspec": {
   "display_name": "Python 3",
   "language": "python",
   "name": "python3"
  },
  "language_info": {
   "codemirror_mode": {
    "name": "ipython",
    "version": 3
   },
   "file_extension": ".py",
   "mimetype": "text/x-python",
   "name": "python",
   "nbconvert_exporter": "python",
   "pygments_lexer": "ipython3",
   "version": "3.11.5"
  }
 },
 "nbformat": 4,
 "nbformat_minor": 2
}
