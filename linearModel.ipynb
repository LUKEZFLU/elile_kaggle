{
 "cells": [
  {
   "cell_type": "code",
   "execution_count": 1,
   "metadata": {},
   "outputs": [],
   "source": [
    "import pandas as pd\n",
    "from sklearn.model_selection import train_test_split\n",
    "from sklearn.model_selection import cross_val_score\n",
    "from sklearn.linear_model import LinearRegression\n",
    "from sklearn.metrics import mean_squared_error, r2_score"
   ]
  },
  {
   "cell_type": "markdown",
   "metadata": {},
   "source": [
    "# Question 1\n",
    "\n"
   ]
  },
  {
   "cell_type": "markdown",
   "metadata": {},
   "source": [
    "Display data"
   ]
  },
  {
   "cell_type": "code",
   "execution_count": 2,
   "metadata": {},
   "outputs": [
    {
     "name": "stdout",
     "output_type": "stream",
     "text": [
      "          DATE_TIME  PLANT_ID       SOURCE_KEY  DC_POWER  AC_POWER  \\\n",
      "0  15-05-2020 00:00   4135001  1BY6WEcLGh8j5v7       0.0       0.0   \n",
      "1  15-05-2020 00:00   4135001  1IF53ai7Xc0U56Y       0.0       0.0   \n",
      "2  15-05-2020 00:00   4135001  3PZuoBAID5Wc2HD       0.0       0.0   \n",
      "3  15-05-2020 00:00   4135001  7JYdWkrLSPkdwr4       0.0       0.0   \n",
      "4  15-05-2020 00:00   4135001  McdE0feGgRqW7Ca       0.0       0.0   \n",
      "\n",
      "   DAILY_YIELD  TOTAL_YIELD  \n",
      "0          0.0    6259559.0  \n",
      "1          0.0    6183645.0  \n",
      "2          0.0    6987759.0  \n",
      "3          0.0    7602960.0  \n",
      "4          0.0    7158964.0  \n",
      "             DATE_TIME  PLANT_ID       SOURCE_KEY  AMBIENT_TEMPERATURE  \\\n",
      "0  2020-05-15 00:00:00   4135001  HmiyD2TTLFNqkNe            25.184316   \n",
      "1  2020-05-15 00:15:00   4135001  HmiyD2TTLFNqkNe            25.084589   \n",
      "2  2020-05-15 00:30:00   4135001  HmiyD2TTLFNqkNe            24.935753   \n",
      "3  2020-05-15 00:45:00   4135001  HmiyD2TTLFNqkNe            24.846130   \n",
      "4  2020-05-15 01:00:00   4135001  HmiyD2TTLFNqkNe            24.621525   \n",
      "\n",
      "   MODULE_TEMPERATURE  IRRADIATION  \n",
      "0           22.857507          0.0  \n",
      "1           22.761668          0.0  \n",
      "2           22.592306          0.0  \n",
      "3           22.360852          0.0  \n",
      "4           22.165423          0.0  \n"
     ]
    }
   ],
   "source": [
    "# read data\n",
    "p1_generate = pd.read_csv('./data/Plant_1_Generation_Data.csv')\n",
    "p1_weather = pd.read_csv('./data/Plant_1_Weather_Sensor_Data.csv')\n",
    "\n",
    "print(p1_generate.head())\n",
    "print(p1_weather.head())"
   ]
  },
  {
   "cell_type": "markdown",
   "metadata": {},
   "source": [
    "merge data"
   ]
  },
  {
   "cell_type": "code",
   "execution_count": 3,
   "metadata": {},
   "outputs": [
    {
     "name": "stdout",
     "output_type": "stream",
     "text": [
      "   DATE_TIME  PLANT_ID_x     SOURCE_KEY_x  DC_POWER  AC_POWER  DAILY_YIELD  \\\n",
      "0 2020-05-15     4135001  1BY6WEcLGh8j5v7       0.0       0.0          0.0   \n",
      "1 2020-05-15     4135001  1IF53ai7Xc0U56Y       0.0       0.0          0.0   \n",
      "2 2020-05-15     4135001  3PZuoBAID5Wc2HD       0.0       0.0          0.0   \n",
      "3 2020-05-15     4135001  7JYdWkrLSPkdwr4       0.0       0.0          0.0   \n",
      "4 2020-05-15     4135001  McdE0feGgRqW7Ca       0.0       0.0          0.0   \n",
      "\n",
      "   TOTAL_YIELD  PLANT_ID_y     SOURCE_KEY_y  AMBIENT_TEMPERATURE  \\\n",
      "0    6259559.0     4135001  HmiyD2TTLFNqkNe            25.184316   \n",
      "1    6183645.0     4135001  HmiyD2TTLFNqkNe            25.184316   \n",
      "2    6987759.0     4135001  HmiyD2TTLFNqkNe            25.184316   \n",
      "3    7602960.0     4135001  HmiyD2TTLFNqkNe            25.184316   \n",
      "4    7158964.0     4135001  HmiyD2TTLFNqkNe            25.184316   \n",
      "\n",
      "   MODULE_TEMPERATURE  IRRADIATION  \n",
      "0           22.857507          0.0  \n",
      "1           22.857507          0.0  \n",
      "2           22.857507          0.0  \n",
      "3           22.857507          0.0  \n",
      "4           22.857507          0.0  \n"
     ]
    },
    {
     "name": "stderr",
     "output_type": "stream",
     "text": [
      "/var/folders/vq/b4771lhd7szfxw67rsm92kk40000gn/T/ipykernel_78911/1242486658.py:1: UserWarning: Parsing dates in %d-%m-%Y %H:%M format when dayfirst=False (the default) was specified. Pass `dayfirst=True` or specify a format to silence this warning.\n",
      "  p1_generate['DATE_TIME'] = pd.to_datetime(p1_generate['DATE_TIME'])\n"
     ]
    }
   ],
   "source": [
    "p1_generate['DATE_TIME'] = pd.to_datetime(p1_generate['DATE_TIME'])\n",
    "p1_weather['DATE_TIME'] = pd.to_datetime(p1_weather['DATE_TIME'])\n",
    "plant1_data = pd.merge(p1_generate, p1_weather, on='DATE_TIME')\n",
    "print(plant1_data.head())"
   ]
  },
  {
   "cell_type": "markdown",
   "metadata": {},
   "source": [
    "# Linear Regression Model with R^2 and MSE"
   ]
  },
  {
   "cell_type": "code",
   "execution_count": 4,
   "metadata": {},
   "outputs": [
    {
     "name": "stdout",
     "output_type": "stream",
     "text": [
      "Mean Squared Error: 3064.69\n",
      "R² Score: 98.01%\n"
     ]
    },
    {
     "name": "stderr",
     "output_type": "stream",
     "text": [
      "/var/folders/vq/b4771lhd7szfxw67rsm92kk40000gn/T/ipykernel_78911/2637018024.py:16: UserWarning: Parsing dates in %d-%m-%Y %H:%M format when dayfirst=False (the default) was specified. Pass `dayfirst=True` or specify a format to silence this warning.\n",
      "  p1_generate['DATE_TIME'] = pd.to_datetime(p1_generate['DATE_TIME'])\n"
     ]
    }
   ],
   "source": [
    "def create_features(df):\n",
    "    df['YEAR'] = df['DATE_TIME'].dt.year\n",
    "    df['MONTH'] = df['DATE_TIME'].dt.month\n",
    "    df['DAY'] = df['DATE_TIME'].dt.day\n",
    "    df['HOUR'] = df['DATE_TIME'].dt.hour\n",
    "    df['MINUTE'] = df['DATE_TIME'].dt.minute\n",
    "    df['DAYOFWEEK'] = df['DATE_TIME'].dt.dayofweek\n",
    "    df['DATE'] = df['DATE_TIME'].dt.date\n",
    "    df['TIME'] = df['DATE_TIME'].dt.time\n",
    "    df['TOTAL_MINUTES_PASS'] = df['MINUTE'] + df['HOUR'] * 60\n",
    "    return df\n",
    "\n",
    "#load data and merge data\n",
    "p1_generate = pd.read_csv('./data/Plant_1_Generation_Data.csv')\n",
    "p1_weather = pd.read_csv('./data/Plant_1_Weather_Sensor_Data.csv')\n",
    "p1_generate['DATE_TIME'] = pd.to_datetime(p1_generate['DATE_TIME'])\n",
    "p1_weather['DATE_TIME'] = pd.to_datetime(p1_weather['DATE_TIME'])\n",
    "plant1_data = pd.merge(p1_generate, p1_weather, on='DATE_TIME')\n",
    "plant1_data = create_features(plant1_data)\n",
    "\n",
    "features = ['YEAR', 'MONTH', 'DAY', 'HOUR', 'MINUTE', 'DAYOFWEEK', 'AMBIENT_TEMPERATURE', 'MODULE_TEMPERATURE', 'IRRADIATION']\n",
    "target = 'AC_POWER'\n",
    "\n",
    "X_train, X_test, y_train, y_test = train_test_split(plant1_data[features], plant1_data[target], test_size=0.2, random_state=42)\n",
    "\n",
    "lr = LinearRegression()\n",
    "lr.fit(X_train, y_train)\n",
    "y_pred_lr = lr.predict(X_test)\n",
    "\n",
    "mse = mean_squared_error(y_test, y_pred_lr)\n",
    "r2 = r2_score(y_test, y_pred_lr)\n",
    "print(f'Mean Squared Error: {mse:.2f}')\n",
    "print(f'R² Score: {r2 * 100:.2f}%')"
   ]
  },
  {
   "cell_type": "markdown",
   "metadata": {},
   "source": [
    "# Use Ridge to prevent overfitting"
   ]
  },
  {
   "cell_type": "code",
   "execution_count": 5,
   "metadata": {},
   "outputs": [
    {
     "name": "stdout",
     "output_type": "stream",
     "text": [
      "Mean Squared Error: 3066.33\n",
      "R² Score: 98.01%\n"
     ]
    }
   ],
   "source": [
    "from sklearn.linear_model import Ridge\n",
    "\n",
    "r_model = Ridge(alpha=1.0)  \n",
    "r_model.fit(X_train, y_train)\n",
    "y_pred_r = r_model.predict(X_test)\n",
    "\n",
    "mse = mean_squared_error(y_test, y_pred_r)\n",
    "r2 = r2_score(y_test, y_pred_r)\n",
    "\n",
    "print(f'Mean Squared Error: {mse:.2f}')\n",
    "print(f'R² Score: {r2 * 100:.2f}%')"
   ]
  },
  {
   "cell_type": "markdown",
   "metadata": {},
   "source": [
    "# Use Cross Validation to testify overfitting"
   ]
  },
  {
   "cell_type": "code",
   "execution_count": 6,
   "metadata": {},
   "outputs": [
    {
     "name": "stdout",
     "output_type": "stream",
     "text": [
      "Cross-Validation R² Score: 0.98 ± 0.01\n"
     ]
    }
   ],
   "source": [
    "\n",
    "cv_scores = cross_val_score(r_model, plant1_data[features], plant1_data[target], cv=5, scoring='r2')\n",
    "cv_mean = cv_scores.mean()\n",
    "cv_std = cv_scores.std()\n",
    "\n",
    "print(f'Cross-Validation R² Score: {cv_mean:.2f} ± {cv_std:.2f}')"
   ]
  },
  {
   "cell_type": "markdown",
   "metadata": {},
   "source": [
    "The R^2 score value is stable with standard error is small indicates there is less potential of overfitting."
   ]
  },
  {
   "cell_type": "markdown",
   "metadata": {},
   "source": [
    "# Prediction"
   ]
  },
  {
   "cell_type": "code",
   "execution_count": 7,
   "metadata": {},
   "outputs": [
    {
     "name": "stdout",
     "output_type": "stream",
     "text": [
      "             DATE_TIME  PREDICTED_AC_POWER\n",
      "0  2020-06-17 23:45:00            7.245528\n",
      "1  2020-06-18 00:45:00           11.399163\n",
      "2  2020-06-18 01:45:00           11.193965\n",
      "3  2020-06-18 02:45:00           10.988767\n",
      "4  2020-06-18 03:45:00           10.783568\n",
      "5  2020-06-18 04:45:00           10.578370\n",
      "6  2020-06-18 05:45:00           10.373172\n",
      "7  2020-06-18 06:45:00           10.167974\n",
      "8  2020-06-18 07:45:00            9.962776\n",
      "9  2020-06-18 08:45:00            9.757578\n",
      "10 2020-06-18 09:45:00            9.552379\n",
      "11 2020-06-18 10:45:00            9.347181\n",
      "12 2020-06-18 11:45:00            9.141983\n",
      "13 2020-06-18 12:45:00            8.936785\n",
      "14 2020-06-18 13:45:00            8.731587\n",
      "15 2020-06-18 14:45:00            8.526389\n",
      "16 2020-06-18 15:45:00            8.321190\n",
      "17 2020-06-18 16:45:00            8.115992\n",
      "18 2020-06-18 17:45:00            7.910794\n",
      "19 2020-06-18 18:45:00            7.705596\n",
      "20 2020-06-18 19:45:00            7.500398\n",
      "21 2020-06-18 20:45:00            7.295200\n",
      "22 2020-06-18 21:45:00            7.090002\n",
      "23 2020-06-18 22:45:00            6.884803\n",
      "24 2020-06-18 23:45:00            6.679605\n",
      "25 2020-06-19 00:45:00           10.833240\n",
      "26 2020-06-19 01:45:00           10.628042\n",
      "27 2020-06-19 02:45:00           10.422844\n",
      "28 2020-06-19 03:45:00           10.217646\n",
      "29 2020-06-19 04:45:00           10.012448\n",
      "30 2020-06-19 05:45:00            9.807250\n",
      "31 2020-06-19 06:45:00            9.602052\n",
      "32 2020-06-19 07:45:00            9.396853\n",
      "33 2020-06-19 08:45:00            9.191655\n",
      "34 2020-06-19 09:45:00            8.986457\n",
      "35 2020-06-19 10:45:00            8.781259\n",
      "36 2020-06-19 11:45:00            8.576061\n",
      "37 2020-06-19 12:45:00            8.370863\n",
      "38 2020-06-19 13:45:00            8.165664\n",
      "39 2020-06-19 14:45:00            7.960466\n",
      "40 2020-06-19 15:45:00            7.755268\n",
      "41 2020-06-19 16:45:00            7.550070\n",
      "42 2020-06-19 17:45:00            7.344872\n",
      "43 2020-06-19 18:45:00            7.139674\n",
      "44 2020-06-19 19:45:00            6.934475\n",
      "45 2020-06-19 20:45:00            6.729277\n",
      "46 2020-06-19 21:45:00            6.524079\n",
      "47 2020-06-19 22:45:00            6.318881\n"
     ]
    }
   ],
   "source": [
    "future_dates = pd.date_range(start=plant1_data['DATE_TIME'].max(), periods=48, freq='h')\n",
    "future_data = pd.DataFrame(future_dates, columns=['DATE_TIME'])\n",
    "future_data = create_features(future_data)\n",
    "# fill previous date weather\n",
    "last_weather_conditions = plant1_data[['AMBIENT_TEMPERATURE', 'MODULE_TEMPERATURE', 'IRRADIATION']].iloc[-1]\n",
    "future_data['AMBIENT_TEMPERATURE'] = last_weather_conditions['AMBIENT_TEMPERATURE']\n",
    "future_data['MODULE_TEMPERATURE'] = last_weather_conditions['MODULE_TEMPERATURE']\n",
    "future_data['IRRADIATION'] = last_weather_conditions['IRRADIATION']\n",
    "\n",
    "prev_day_ac_power = plant1_data['AC_POWER'].iloc[-24:].values\n",
    "future_data['PREV_DAY_AC_POWER'] = [0]*24 + list(prev_day_ac_power)\n",
    "future_predictions = lr.predict(future_data[features])\n",
    "future_data['PREDICTED_AC_POWER'] = future_predictions\n",
    "print(future_data[['DATE_TIME', 'PREDICTED_AC_POWER']])"
   ]
  },
  {
   "cell_type": "code",
   "execution_count": null,
   "metadata": {},
   "outputs": [],
   "source": [
    "\n"
   ]
  }
 ],
 "metadata": {
  "kernelspec": {
   "display_name": "Python 3",
   "language": "python",
   "name": "python3"
  },
  "language_info": {
   "codemirror_mode": {
    "name": "ipython",
    "version": 3
   },
   "file_extension": ".py",
   "mimetype": "text/x-python",
   "name": "python",
   "nbconvert_exporter": "python",
   "pygments_lexer": "ipython3",
   "version": "3.11.5"
  }
 },
 "nbformat": 4,
 "nbformat_minor": 2
}
